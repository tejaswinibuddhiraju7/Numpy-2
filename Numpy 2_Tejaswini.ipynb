{
 "cells": [
  {
   "cell_type": "code",
   "execution_count": 26,
   "metadata": {
    "collapsed": true
   },
   "outputs": [],
   "source": [
    "# Define moving_average_sequence as a function of parameters as input sequence and its windows size k\n",
    "def moving_average_sequence(input_seq, k):\n",
    "    cum_sum = 0                                # Initialize cumulative sum as zero\n",
    "    final_list = list( 0 for x in input_seq)   # Initialize final_list as a list of zeroes with length of its input sequence\n",
    "\n",
    "    for i in range( 0, k ):                    # Iterate through the range of windows size\n",
    "        cum_sum += input_seq[i]                # Add cumulative sum to itself and ith element of input sequence\n",
    "        final_list[i] = cum_sum / (i+1)        # Update the ith element of final_list as division of cumulative sum and (i+1)\n",
    "\n",
    "    for i in range( k, len(input_seq) ):       # Iterate through windows_size and length of input sequence\n",
    "        cum_sum = cum_sum - input_seq[i-k] + input_seq[i] # Update cum_sum as cum_sum - input_seq[i-k] + input_seq[i]\n",
    "        final_list[i] = cum_sum / k            # Update the ith element of final_list as diviison of cum_sum and k\n",
    "\n",
    "    return final_list[k-1:]                    # Return the values of final_list from k-1 index to the end  "
   ]
  },
  {
   "cell_type": "code",
   "execution_count": 27,
   "metadata": {},
   "outputs": [
    {
     "data": {
      "text/plain": [
       "[5.0,\n",
       " 4.666666666666667,\n",
       " 5.666666666666667,\n",
       " 6.666666666666667,\n",
       " 9.666666666666666,\n",
       " 28.666666666666668,\n",
       " 49.333333333333336,\n",
       " 72.66666666666667,\n",
       " 84.0,\n",
       " 93.33333333333333,\n",
       " 116.33333333333333]"
      ]
     },
     "execution_count": 27,
     "metadata": {},
     "output_type": "execute_result"
    }
   ],
   "source": [
    "moving_average_sequence([3, 5, 7, 2, 8, 10, 11, 65, 72, 81, 99, 100, 150],3)"
   ]
  },
  {
   "cell_type": "code",
   "execution_count": null,
   "metadata": {
    "collapsed": true
   },
   "outputs": [],
   "source": []
  }
 ],
 "metadata": {
  "kernelspec": {
   "display_name": "Python 3",
   "language": "python",
   "name": "python3"
  },
  "language_info": {
   "codemirror_mode": {
    "name": "ipython",
    "version": 3
   },
   "file_extension": ".py",
   "mimetype": "text/x-python",
   "name": "python",
   "nbconvert_exporter": "python",
   "pygments_lexer": "ipython3",
   "version": "3.6.2"
  }
 },
 "nbformat": 4,
 "nbformat_minor": 2
}
