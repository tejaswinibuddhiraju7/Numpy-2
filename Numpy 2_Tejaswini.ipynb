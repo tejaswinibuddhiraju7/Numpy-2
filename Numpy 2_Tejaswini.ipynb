{
 "cells": [
  {
   "cell_type": "code",
   "execution_count": 17,
   "metadata": {
    "collapsed": true
   },
   "outputs": [],
   "source": [
    "### Running mean/Moving average\n",
    "def moving_average_sequence(input_seq, k):\n",
    "    cum_sum = 0\n",
    "    final_list = list( 0 for x in input_seq)\n",
    "\n",
    "    for i in range( 0, k ):\n",
    "        cum_sum = cum_sum + input_seq[i]\n",
    "        final_list[i] = cum_sum / (i+1)\n",
    "\n",
    "    for i in range( k, len(input_seq) ):\n",
    "        cum_sum = cum_sum - input_seq[i-k] + input_seq[i]\n",
    "        final_list[i] = cum_sum / k\n",
    "\n",
    "    return final_list[k-1:]"
   ]
  },
  {
   "cell_type": "code",
   "execution_count": 21,
   "metadata": {},
   "outputs": [
    {
     "data": {
      "text/plain": [
       "[5.0,\n",
       " 4.666666666666667,\n",
       " 5.666666666666667,\n",
       " 6.666666666666667,\n",
       " 9.666666666666666,\n",
       " 28.666666666666668,\n",
       " 49.333333333333336,\n",
       " 72.66666666666667,\n",
       " 84.0,\n",
       " 93.33333333333333,\n",
       " 116.33333333333333]"
      ]
     },
     "execution_count": 21,
     "metadata": {},
     "output_type": "execute_result"
    }
   ],
   "source": [
    "moving_average_sequence([3, 5, 7, 2, 8, 10, 11, 65, 72, 81, 99, 100, 150],3)"
   ]
  },
  {
   "cell_type": "code",
   "execution_count": null,
   "metadata": {
    "collapsed": true
   },
   "outputs": [],
   "source": []
  }
 ],
 "metadata": {
  "kernelspec": {
   "display_name": "Python 3",
   "language": "python",
   "name": "python3"
  },
  "language_info": {
   "codemirror_mode": {
    "name": "ipython",
    "version": 3
   },
   "file_extension": ".py",
   "mimetype": "text/x-python",
   "name": "python",
   "nbconvert_exporter": "python",
   "pygments_lexer": "ipython3",
   "version": "3.6.2"
  }
 },
 "nbformat": 4,
 "nbformat_minor": 2
}
